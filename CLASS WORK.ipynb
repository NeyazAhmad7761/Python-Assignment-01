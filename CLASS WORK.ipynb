{
 "cells": [
  {
   "cell_type": "markdown",
   "id": "322ca191-b112-4687-a70a-08cb0bed9a1d",
   "metadata": {},
   "source": [
    "## CLASS WORK"
   ]
  },
  {
   "cell_type": "markdown",
   "id": "1461d5b2-0bc2-41fa-b21b-71dec5480f6b",
   "metadata": {},
   "source": [
    "## Write a function that takes n input from user and return data enterd by user as a list . function shall ensure that values given by user are integer .you can ask number of integer that user want."
   ]
  },
  {
   "cell_type": "code",
   "execution_count": 1,
   "id": "a878303b-1e1c-437d-9df5-0ee48cf02ad8",
   "metadata": {},
   "outputs": [
    {
     "name": "stdin",
     "output_type": "stream",
     "text": [
      "Enter the number of integers you want to enter:  3\n",
      "Enter integer 1:  5\n",
      "Enter integer 2:  2\n",
      "Enter integer 3:  9\n"
     ]
    },
    {
     "name": "stdout",
     "output_type": "stream",
     "text": [
      "[5, 2, 9]\n"
     ]
    }
   ],
   "source": [
    "def get_integer_list_from_user():\n",
    "    # Ask the user for the number of integers they want to enter\n",
    "    n = int(input(\"Enter the number of integers you want to enter: \"))\n",
    "\n",
    "    # Initialize an empty list to store the integers\n",
    "    integer_list = []\n",
    "\n",
    "    # Loop through the range of n to get n integers from the user\n",
    "    for i in range(n):\n",
    "        # Ask the user to enter an integer\n",
    "        while True:\n",
    "            try:\n",
    "                # Try to convert the user's input to an integer\n",
    "                integer = int(input(f\"Enter integer {i+1}: \"))\n",
    "                # If the input is an integer, add it to the list and break the loop\n",
    "                integer_list.append(integer)\n",
    "                break\n",
    "            except ValueError:\n",
    "                # If the input is not an integer, print an error message and continue the loop\n",
    "                print(\"Invalid input! Please enter a valid integer.\")\n",
    "\n",
    "    # Return the list of integers\n",
    "    return integer_list\n",
    "\n",
    "# Test the function\n",
    "print(get_integer_list_from_user())"
   ]
  },
  {
   "cell_type": "markdown",
   "id": "aeea2299-ddb7-45ca-a7e3-cace69dd099a",
   "metadata": {},
   "source": [
    "## Write a function that takes one input argument the input argument should be a list of number this function computes sum average,minimum,maximum and quemlative sum and return these values now use this function . take input from user,compute sum average"
   ]
  },
  {
   "cell_type": "code",
   "execution_count": 2,
   "id": "17dc35c7-155f-4ca1-b1c4-437be835365f",
   "metadata": {},
   "outputs": [
    {
     "name": "stdin",
     "output_type": "stream",
     "text": [
      "Enter a list of numbers separated by space:  1 3\n"
     ]
    },
    {
     "name": "stdout",
     "output_type": "stream",
     "text": [
      "Sum:  4.0\n",
      "Average:  2.0\n",
      "Minimum:  1.0\n",
      "Maximum:  3.0\n",
      "Cumulative Sum:  [1.0, 4.0]\n"
     ]
    }
   ],
   "source": [
    "def compute_statistics(numbers):\n",
    "    # Compute the sum of the numbers\n",
    "    total_sum = sum(numbers)\n",
    "    \n",
    "    # Compute the average of the numbers\n",
    "    average = total_sum / len(numbers)\n",
    "    \n",
    "    # Compute the minimum of the numbers\n",
    "    minimum = min(numbers)\n",
    "    \n",
    "    # Compute the maximum of the numbers\n",
    "    maximum = max(numbers)\n",
    "    \n",
    "    # Compute the cumulative sum of the numbers\n",
    "    cumulative_sum = [sum(numbers[:i+1]) for i in range(len(numbers))]\n",
    "    \n",
    "    # Return the computed statistics\n",
    "    return total_sum, average, minimum, maximum, cumulative_sum\n",
    "\n",
    "# Take input from the user\n",
    "input_list = input(\"Enter a list of numbers separated by space: \")\n",
    "\n",
    "# Convert the input string to a list of numbers\n",
    "numbers = [float(num) for num in input_list.split()]\n",
    "\n",
    "# Compute the statistics\n",
    "total_sum, average, minimum, maximum, cumulative_sum = compute_statistics(numbers)\n",
    "\n",
    "# Print the statistics\n",
    "print(\"Sum: \", total_sum)\n",
    "print(\"Average: \", average)\n",
    "print(\"Minimum: \", minimum)\n",
    "print(\"Maximum: \", maximum)\n",
    "print(\"Cumulative Sum: \", cumulative_sum)"
   ]
  },
  {
   "cell_type": "code",
   "execution_count": null,
   "id": "6eee6203-d382-4a45-a7c4-7abae7d4bf16",
   "metadata": {},
   "outputs": [],
   "source": []
  }
 ],
 "metadata": {
  "kernelspec": {
   "display_name": "Python 3 (ipykernel)",
   "language": "python",
   "name": "python3"
  },
  "language_info": {
   "codemirror_mode": {
    "name": "ipython",
    "version": 3
   },
   "file_extension": ".py",
   "mimetype": "text/x-python",
   "name": "python",
   "nbconvert_exporter": "python",
   "pygments_lexer": "ipython3",
   "version": "3.12.4"
  }
 },
 "nbformat": 4,
 "nbformat_minor": 5
}
