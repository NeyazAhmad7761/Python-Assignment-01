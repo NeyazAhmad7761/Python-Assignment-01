{
 "cells": [
  {
   "cell_type": "markdown",
   "id": "210b2738-289d-4d26-a6cd-a0f4a17a94fc",
   "metadata": {},
   "source": [
    "## GUI"
   ]
  },
  {
   "cell_type": "code",
   "execution_count": 1,
   "id": "31767ecc-248d-4af1-8eb5-def77dad12d1",
   "metadata": {},
   "outputs": [],
   "source": [
    "import tkinter as tk\n",
    "\n",
    "root = tk.Tk()\n",
    "root.title(\"Simple Input and Button GUI\")\n",
    "root.geometry(\"300x150\")\n",
    "\n",
    "def show_input():\n",
    "    user_input =entry.get()\n",
    "    print(\"Userinput:\", user_input)\n",
    "\n",
    "\n",
    "label = tk.Label(root,text=\"Enter Something: \")\n",
    "label.pack(pady=20)\n",
    "\n",
    "\n",
    "entry=tk.Entry(root, width=30)\n",
    "entry.pack(pady=5)\n",
    "\n",
    "button= tk.Button(root, text=\"Submit\", command=show_input)\n",
    "button.pack(pady=10)\n",
    "\n",
    "root.mainloop()"
   ]
  },
  {
   "cell_type": "markdown",
   "id": "6e9f2621-a137-4afa-932e-f9c16cf2262d",
   "metadata": {},
   "source": [
    "## File Organizer\n"
   ]
  },
  {
   "cell_type": "code",
   "execution_count": null,
   "id": "0713b7a9-d04b-435a-8a65-b5051d8c2d36",
   "metadata": {},
   "outputs": [],
   "source": [
    "import os\n",
    "from doctest import Example\n",
    "\n",
    "\n",
    "def organize_files(directory):\n",
    "    # Detect the operating system using os.name\n",
    "    is_windows = os.name == 'nt'\n",
    "    # Define file categories and corresponding file extensions\n",
    "    file_types = {\n",
    "        'Videos': ['.mp4', '.mkv', '.avi', '.mov'],\n",
    "        'Audios': ['.mp3', '.wav', '.aac', '.flac'],\n",
    "        'Images': ['.jpg', '.jpeg', '.png', '.gif', '.bmp'],\n",
    "        'Documents': ['.pdf', '.doc', '.docx', '.xls', '.xlsx', '.ppt', '.pptx', '.txt'],\n",
    "        'Misc': []\n",
    "    }\n",
    "    # Create folders for each file category if they don't already exist\n",
    "    for folder in file_types.keys():\n",
    "        folder_path = os.path.join(directory, folder)\n",
    "        if not os.path.exists(folder_path):\n",
    "            os.makedirs(folder_path)\n",
    "    # Iterate over the files in the directory\n",
    "    for file_name in os.listdir(directory):\n",
    "        file_path = os.path.join(directory, file_name)\n",
    "        # Skip directories\n",
    "        if os.path.isdir(file_path):\n",
    "            continue\n",
    "        \n",
    "        # Determine the file extension\n",
    "        file_extension = os.path.splitext(file_name)[1].lower()\n",
    "        # Find the appropriate category for the file\n",
    "        moved = False\n",
    "        for folder, extensions in file_types.items():\n",
    "            if file_extension in extensions:\n",
    "                # Move the file to the corresponding folder\n",
    "                destination = os.path.join(directory, folder, file_name)\n",
    "                \n",
    "                # Check if file already exists at the destination\n",
    "                if not os.path.exists(destination):\n",
    "                    if is_windows:\n",
    "                        os.system(f'move \"{file_path}\" \"{destination}\"')\n",
    "                    else:\n",
    "                        os.system(f'mv \"{file_path}\" \"{destination}\"')\n",
    "                moved = True\n",
    "                break\n",
    "        \n",
    "        # If no matching category is found, move to the 'Misc' folder\n",
    "        if not moved:\n",
    "            misc_destination = os.path.join(directory, 'Misc', file_name)\n",
    "            if not os.path.exists(misc_destination):\n",
    "                if is_windows:\n",
    "                    os.system(f'move \"{file_path}\" \"{misc_destination}\"')\n",
    "                else:\n",
    "                    os.system(f'mv \"{file_path}\" \"{misc_destination}\"')\n",
    "    print(\"Files have been organized!\")\n",
    "\n",
    "\n",
    "if os.name == \"main\":\n",
    "    user_input = input(\"Enter the directory path to organize: \")\n",
    "    if os.path.exists(user_input):\n",
    "        organize_files(user_input)\n",
    "    else:\n",
    "        print(\"Invalid directory path!\")"
   ]
  },
  {
   "cell_type": "markdown",
   "id": "7be4f980-bd3f-483f-b4cb-b36300ff0ebb",
   "metadata": {},
   "source": [
    "## MAIN.PY"
   ]
  },
  {
   "cell_type": "code",
   "execution_count": null,
   "id": "26b5d64c-cf13-4c95-b5dc-89e8e8cfad84",
   "metadata": {},
   "outputs": [],
   "source": [
    "import os\n",
    "import tkinter as tk\n",
    "\n",
    "from file_organizer import organize_files\n",
    "\n",
    "root = tk.Tk()\n",
    "root.title(\"File Organizer\")\n",
    "root.geometry(\"400x250\")\n",
    "\n",
    "def submit_function():\n",
    "    address =entry.get()\n",
    "    print(\"Address is: \\t\", address)\n",
    "    if os.path.exists(address):\n",
    "        organize_files(address)\n",
    "    \n",
    "\n",
    "\n",
    "label = tk.Label(root,text=\"Enter Directory Address \")\n",
    "label.pack(pady=20)\n",
    "\n",
    "\n",
    "entry=tk.Entry(root, width=30)\n",
    "entry.pack(pady=5)\n",
    "\n",
    "button= tk.Button(root, text=\"Submit\", command=submit_function)\n",
    "button.pack(pady=10)\n",
    "\n",
    "root.mainloop()"
   ]
  }
 ],
 "metadata": {
  "kernelspec": {
   "display_name": "Python 3 (ipykernel)",
   "language": "python",
   "name": "python3"
  },
  "language_info": {
   "codemirror_mode": {
    "name": "ipython",
    "version": 3
   },
   "file_extension": ".py",
   "mimetype": "text/x-python",
   "name": "python",
   "nbconvert_exporter": "python",
   "pygments_lexer": "ipython3",
   "version": "3.12.4"
  }
 },
 "nbformat": 4,
 "nbformat_minor": 5
}
